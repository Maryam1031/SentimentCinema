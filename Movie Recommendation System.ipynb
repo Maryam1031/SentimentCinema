{
 "cells": [
  {
   "cell_type": "code",
   "execution_count": 2,
   "id": "79264e3e-f0c4-4d94-96dc-1a02685e7374",
   "metadata": {},
   "outputs": [
    {
     "name": "stdout",
     "output_type": "stream",
     "text": [
      "Requirement already satisfied: pandas in d:\\anaconda3\\lib\\site-packages (2.2.2)\n",
      "Requirement already satisfied: numpy in d:\\anaconda3\\lib\\site-packages (1.26.4)\n",
      "Requirement already satisfied: nltk in d:\\anaconda3\\lib\\site-packages (3.9.1)\n",
      "Requirement already satisfied: scikit-learn in d:\\anaconda3\\lib\\site-packages (1.5.1)\n",
      "Requirement already satisfied: python-dateutil>=2.8.2 in d:\\anaconda3\\lib\\site-packages (from pandas) (2.9.0.post0)\n",
      "Requirement already satisfied: pytz>=2020.1 in d:\\anaconda3\\lib\\site-packages (from pandas) (2024.1)\n",
      "Requirement already satisfied: tzdata>=2022.7 in d:\\anaconda3\\lib\\site-packages (from pandas) (2023.3)\n",
      "Requirement already satisfied: click in d:\\anaconda3\\lib\\site-packages (from nltk) (8.1.7)\n",
      "Requirement already satisfied: joblib in d:\\anaconda3\\lib\\site-packages (from nltk) (1.4.2)\n",
      "Requirement already satisfied: regex>=2021.8.3 in d:\\anaconda3\\lib\\site-packages (from nltk) (2024.9.11)\n",
      "Requirement already satisfied: tqdm in d:\\anaconda3\\lib\\site-packages (from nltk) (4.66.5)\n",
      "Requirement already satisfied: scipy>=1.6.0 in d:\\anaconda3\\lib\\site-packages (from scikit-learn) (1.13.1)\n",
      "Requirement already satisfied: threadpoolctl>=3.1.0 in d:\\anaconda3\\lib\\site-packages (from scikit-learn) (3.5.0)\n",
      "Requirement already satisfied: six>=1.5 in d:\\anaconda3\\lib\\site-packages (from python-dateutil>=2.8.2->pandas) (1.16.0)\n",
      "Requirement already satisfied: colorama in d:\\anaconda3\\lib\\site-packages (from click->nltk) (0.4.6)\n",
      "Note: you may need to restart the kernel to use updated packages.\n"
     ]
    }
   ],
   "source": [
    "pip install pandas numpy nltk scikit-learn\n"
   ]
  },
  {
   "cell_type": "code",
   "execution_count": 4,
   "id": "abad940e-6eee-492d-943d-b989e9aa0d98",
   "metadata": {},
   "outputs": [
    {
     "data": {
      "text/html": [
       "<div>\n",
       "<style scoped>\n",
       "    .dataframe tbody tr th:only-of-type {\n",
       "        vertical-align: middle;\n",
       "    }\n",
       "\n",
       "    .dataframe tbody tr th {\n",
       "        vertical-align: top;\n",
       "    }\n",
       "\n",
       "    .dataframe thead th {\n",
       "        text-align: right;\n",
       "    }\n",
       "</style>\n",
       "<table border=\"1\" class=\"dataframe\">\n",
       "  <thead>\n",
       "    <tr style=\"text-align: right;\">\n",
       "      <th></th>\n",
       "      <th>show_id</th>\n",
       "      <th>type</th>\n",
       "      <th>title</th>\n",
       "      <th>director</th>\n",
       "      <th>cast</th>\n",
       "      <th>country</th>\n",
       "      <th>date_added</th>\n",
       "      <th>release_year</th>\n",
       "      <th>rating</th>\n",
       "      <th>duration</th>\n",
       "      <th>listed_in</th>\n",
       "      <th>description</th>\n",
       "    </tr>\n",
       "  </thead>\n",
       "  <tbody>\n",
       "    <tr>\n",
       "      <th>0</th>\n",
       "      <td>s1</td>\n",
       "      <td>Movie</td>\n",
       "      <td>Dick Johnson Is Dead</td>\n",
       "      <td>Kirsten Johnson</td>\n",
       "      <td>NaN</td>\n",
       "      <td>United States</td>\n",
       "      <td>September 25, 2021</td>\n",
       "      <td>2020</td>\n",
       "      <td>PG-13</td>\n",
       "      <td>90 min</td>\n",
       "      <td>Documentaries</td>\n",
       "      <td>As her father nears the end of his life, filmm...</td>\n",
       "    </tr>\n",
       "    <tr>\n",
       "      <th>1</th>\n",
       "      <td>s2</td>\n",
       "      <td>TV Show</td>\n",
       "      <td>Blood &amp; Water</td>\n",
       "      <td>NaN</td>\n",
       "      <td>Ama Qamata, Khosi Ngema, Gail Mabalane, Thaban...</td>\n",
       "      <td>South Africa</td>\n",
       "      <td>September 24, 2021</td>\n",
       "      <td>2021</td>\n",
       "      <td>TV-MA</td>\n",
       "      <td>2 Seasons</td>\n",
       "      <td>International TV Shows, TV Dramas, TV Mysteries</td>\n",
       "      <td>After crossing paths at a party, a Cape Town t...</td>\n",
       "    </tr>\n",
       "    <tr>\n",
       "      <th>2</th>\n",
       "      <td>s3</td>\n",
       "      <td>TV Show</td>\n",
       "      <td>Ganglands</td>\n",
       "      <td>Julien Leclercq</td>\n",
       "      <td>Sami Bouajila, Tracy Gotoas, Samuel Jouy, Nabi...</td>\n",
       "      <td>NaN</td>\n",
       "      <td>September 24, 2021</td>\n",
       "      <td>2021</td>\n",
       "      <td>TV-MA</td>\n",
       "      <td>1 Season</td>\n",
       "      <td>Crime TV Shows, International TV Shows, TV Act...</td>\n",
       "      <td>To protect his family from a powerful drug lor...</td>\n",
       "    </tr>\n",
       "    <tr>\n",
       "      <th>3</th>\n",
       "      <td>s4</td>\n",
       "      <td>TV Show</td>\n",
       "      <td>Jailbirds New Orleans</td>\n",
       "      <td>NaN</td>\n",
       "      <td>NaN</td>\n",
       "      <td>NaN</td>\n",
       "      <td>September 24, 2021</td>\n",
       "      <td>2021</td>\n",
       "      <td>TV-MA</td>\n",
       "      <td>1 Season</td>\n",
       "      <td>Docuseries, Reality TV</td>\n",
       "      <td>Feuds, flirtations and toilet talk go down amo...</td>\n",
       "    </tr>\n",
       "    <tr>\n",
       "      <th>4</th>\n",
       "      <td>s5</td>\n",
       "      <td>TV Show</td>\n",
       "      <td>Kota Factory</td>\n",
       "      <td>NaN</td>\n",
       "      <td>Mayur More, Jitendra Kumar, Ranjan Raj, Alam K...</td>\n",
       "      <td>India</td>\n",
       "      <td>September 24, 2021</td>\n",
       "      <td>2021</td>\n",
       "      <td>TV-MA</td>\n",
       "      <td>2 Seasons</td>\n",
       "      <td>International TV Shows, Romantic TV Shows, TV ...</td>\n",
       "      <td>In a city of coaching centers known to train I...</td>\n",
       "    </tr>\n",
       "  </tbody>\n",
       "</table>\n",
       "</div>"
      ],
      "text/plain": [
       "  show_id     type                  title         director  \\\n",
       "0      s1    Movie   Dick Johnson Is Dead  Kirsten Johnson   \n",
       "1      s2  TV Show          Blood & Water              NaN   \n",
       "2      s3  TV Show              Ganglands  Julien Leclercq   \n",
       "3      s4  TV Show  Jailbirds New Orleans              NaN   \n",
       "4      s5  TV Show           Kota Factory              NaN   \n",
       "\n",
       "                                                cast        country  \\\n",
       "0                                                NaN  United States   \n",
       "1  Ama Qamata, Khosi Ngema, Gail Mabalane, Thaban...   South Africa   \n",
       "2  Sami Bouajila, Tracy Gotoas, Samuel Jouy, Nabi...            NaN   \n",
       "3                                                NaN            NaN   \n",
       "4  Mayur More, Jitendra Kumar, Ranjan Raj, Alam K...          India   \n",
       "\n",
       "           date_added  release_year rating   duration  \\\n",
       "0  September 25, 2021          2020  PG-13     90 min   \n",
       "1  September 24, 2021          2021  TV-MA  2 Seasons   \n",
       "2  September 24, 2021          2021  TV-MA   1 Season   \n",
       "3  September 24, 2021          2021  TV-MA   1 Season   \n",
       "4  September 24, 2021          2021  TV-MA  2 Seasons   \n",
       "\n",
       "                                           listed_in  \\\n",
       "0                                      Documentaries   \n",
       "1    International TV Shows, TV Dramas, TV Mysteries   \n",
       "2  Crime TV Shows, International TV Shows, TV Act...   \n",
       "3                             Docuseries, Reality TV   \n",
       "4  International TV Shows, Romantic TV Shows, TV ...   \n",
       "\n",
       "                                         description  \n",
       "0  As her father nears the end of his life, filmm...  \n",
       "1  After crossing paths at a party, a Cape Town t...  \n",
       "2  To protect his family from a powerful drug lor...  \n",
       "3  Feuds, flirtations and toilet talk go down amo...  \n",
       "4  In a city of coaching centers known to train I...  "
      ]
     },
     "execution_count": 4,
     "metadata": {},
     "output_type": "execute_result"
    }
   ],
   "source": [
    "import pandas as pd\n",
    "\n",
    "# Load Netflix dataset\n",
    "df = pd.read_csv(\"netflix_titles.csv\")\n",
    "\n",
    "# Display first 5 rows\n",
    "df.head()\n"
   ]
  },
  {
   "cell_type": "code",
   "execution_count": 5,
   "id": "f21fe71e-4bf1-4aa5-af20-f6200ab64cae",
   "metadata": {},
   "outputs": [
    {
     "name": "stdout",
     "output_type": "stream",
     "text": [
      "<class 'pandas.core.frame.DataFrame'>\n",
      "RangeIndex: 8807 entries, 0 to 8806\n",
      "Data columns (total 12 columns):\n",
      " #   Column        Non-Null Count  Dtype \n",
      "---  ------        --------------  ----- \n",
      " 0   show_id       8807 non-null   object\n",
      " 1   type          8807 non-null   object\n",
      " 2   title         8807 non-null   object\n",
      " 3   director      6173 non-null   object\n",
      " 4   cast          7982 non-null   object\n",
      " 5   country       7976 non-null   object\n",
      " 6   date_added    8797 non-null   object\n",
      " 7   release_year  8807 non-null   int64 \n",
      " 8   rating        8803 non-null   object\n",
      " 9   duration      8804 non-null   object\n",
      " 10  listed_in     8807 non-null   object\n",
      " 11  description   8807 non-null   object\n",
      "dtypes: int64(1), object(11)\n",
      "memory usage: 825.8+ KB\n"
     ]
    }
   ],
   "source": [
    "# Drop rows where description is missing\n",
    "df = df.dropna(subset=['description'])\n",
    "df = df.reset_index(drop=True)\n",
    "\n",
    "# Check dataset info\n",
    "df.info()\n"
   ]
  },
  {
   "cell_type": "code",
   "execution_count": 16,
   "id": "117955a0-1d8c-41d1-beed-5844c0bfeacd",
   "metadata": {},
   "outputs": [
    {
     "name": "stderr",
     "output_type": "stream",
     "text": [
      "[nltk_data] Downloading package vader_lexicon to\n",
      "[nltk_data]     C:\\Users\\Dell\\AppData\\Roaming\\nltk_data...\n",
      "[nltk_data]   Package vader_lexicon is already up-to-date!\n"
     ]
    },
    {
     "name": "stdin",
     "output_type": "stream",
     "text": [
      "Enter your text:  Happy\n"
     ]
    },
    {
     "name": "stdout",
     "output_type": "stream",
     "text": [
      "User Mood: positive\n"
     ]
    }
   ],
   "source": [
    "import nltk\n",
    "from nltk.sentiment import SentimentIntensityAnalyzer\n",
    "\n",
    "# Download VADER lexicon\n",
    "nltk.download('vader_lexicon')\n",
    "\n",
    "# Initialize SentimentIntensityAnalyzer\n",
    "sia = SentimentIntensityAnalyzer()\n",
    "\n",
    "def get_sentiment_vader(text):\n",
    "    sentiment_score = sia.polarity_scores(text)\n",
    "    \n",
    "    if sentiment_score['compound'] >= 0.05:\n",
    "        return \"positive\"\n",
    "    elif sentiment_score['compound'] <= -0.05:\n",
    "        return \"negative\"\n",
    "    else:\n",
    "        return \"neutral\"\n",
    "\n",
    "# Take user input\n",
    "user_input = input(\"Enter your text: \")  # Fix: Define user_input\n",
    "user_mood = get_sentiment_vader(user_input)\n",
    "print(f\"User Mood: {user_mood}\")\n"
   ]
  },
  {
   "cell_type": "code",
   "execution_count": 17,
   "id": "7642f161-8372-429b-95a3-a000cfd3e405",
   "metadata": {},
   "outputs": [
    {
     "name": "stdout",
     "output_type": "stream",
     "text": [
      "Recommended Genres: ['Comedy', 'Adventure', 'Action', 'Romance']\n"
     ]
    }
   ],
   "source": [
    "# Define mood-to-genre mapping\n",
    "mood_genre_mapping = {\n",
    "    \"positive\": [\"Comedy\", \"Adventure\", \"Action\", \"Romance\"],\n",
    "    \"neutral\": [\"Drama\", \"Sci-Fi\", \"Fantasy\"],\n",
    "    \"negative\": [\"Horror\", \"Thriller\", \"Crime\", \"Documentary\"]\n",
    "}\n",
    "\n",
    "# Function to get genres based on mood\n",
    "def get_genre_by_mood(mood):\n",
    "    return mood_genre_mapping.get(mood, [\"Drama\"])  # Default to \"Drama\" if mood is unknown\n",
    "\n",
    "# Example: Get genres for detected mood\n",
    "selected_genres = get_genre_by_mood(user_mood)\n",
    "print(f\"Recommended Genres: {selected_genres}\")\n"
   ]
  },
  {
   "cell_type": "code",
   "execution_count": 18,
   "id": "a5e7fce8-3efa-479e-beb9-1401eb599230",
   "metadata": {},
   "outputs": [
    {
     "data": {
      "text/plain": [
       "(8807, 18895)"
      ]
     },
     "execution_count": 18,
     "metadata": {},
     "output_type": "execute_result"
    }
   ],
   "source": [
    "from sklearn.feature_extraction.text import TfidfVectorizer\n",
    "\n",
    "# Initialize TF-IDF Vectorizer\n",
    "tfidf = TfidfVectorizer(stop_words=\"english\")\n",
    "\n",
    "# Convert movie descriptions into TF-IDF vectors\n",
    "tfidf_matrix = tfidf.fit_transform(df[\"description\"])\n",
    "\n",
    "# Check shape of the matrix (Rows: Movies, Columns: Unique Words)\n",
    "tfidf_matrix.shape\n"
   ]
  },
  {
   "cell_type": "code",
   "execution_count": 20,
   "id": "84f8733c-4029-432e-be56-e358b088ec26",
   "metadata": {},
   "outputs": [
    {
     "name": "stdout",
     "output_type": "stream",
     "text": [
      "                                               title  \\\n",
      "2221                 Jack Whitehall: I'm Only Joking   \n",
      "6121                             All the Devil's Men   \n",
      "6808                            From Paris with Love   \n",
      "8792                                     Young Tiger   \n",
      "3123  Ronny Chieng: Asian Comedian Destroys America!   \n",
      "\n",
      "                                     listed_in  \\\n",
      "2221                           Stand-Up Comedy   \n",
      "6121                        Action & Adventure   \n",
      "6808  Action & Adventure, International Movies   \n",
      "8792  Action & Adventure, International Movies   \n",
      "3123                           Stand-Up Comedy   \n",
      "\n",
      "                                            description  \n",
      "2221  Jack Whitehall hits the stage with hilarious t...  \n",
      "6121  A battle-scarred Special Ops military vet join...  \n",
      "6808  A low-level intelligence agent gets pulled int...  \n",
      "8792  Aided only by a tough female police officer, a...  \n",
      "3123  Ronny Chieng (\"The Daily Show,\" \"Crazy Rich As...  \n"
     ]
    }
   ],
   "source": [
    "from sklearn.metrics.pairwise import cosine_similarity\n",
    "\n",
    "# Function to recommend movies based on user mood\n",
    "def recommend_movies(user_input, df):\n",
    "    # Analyze mood\n",
    "    user_mood = get_sentiment_vader(user_input)\n",
    "    selected_genres = get_genre_by_mood(user_mood)\n",
    "    \n",
    "    # Filter dataset for selected genres\n",
    "    filtered_df = df[df[\"listed_in\"].apply(lambda x: any(genre in x for genre in selected_genres))]\n",
    "    \n",
    "    # Convert filtered descriptions to TF-IDF\n",
    "    tfidf_matrix_filtered = tfidf.transform(filtered_df[\"description\"])\n",
    "    \n",
    "    # Convert user input to TF-IDF vector\n",
    "    user_tfidf_vector = tfidf.transform([user_input])\n",
    "    \n",
    "    # Compute similarity\n",
    "    similarity_scores = cosine_similarity(user_tfidf_vector, tfidf_matrix_filtered).flatten()\n",
    "    \n",
    "    # Get top 5 recommended movies\n",
    "    top_indices = similarity_scores.argsort()[-5:][::-1]  # Get top matches\n",
    "    recommendations = filtered_df.iloc[top_indices]\n",
    "    \n",
    "    return recommendations[[\"title\", \"listed_in\", \"description\"]]\n",
    "\n",
    "\n",
    "user_input = \"I am happy!\"\n",
    "recommended_movies = recommend_movies(user_input, df)\n",
    "\n",
    "print(recommended_movies)\n"
   ]
  },
  {
   "cell_type": "code",
   "execution_count": 12,
   "id": "ec38274e-cd1b-4f10-bad8-115512f45edb",
   "metadata": {},
   "outputs": [
    {
     "name": "stdout",
     "output_type": "stream",
     "text": [
      " Vir Das: Losing It (Stand-Up Comedy)\n",
      " The world's got a lot of problems, but Vir Das has a lot of answers as he discusses travel, religion, his childhood and more in this stand-up special.\n",
      "\n",
      " Jo Koy: Live from Seattle (Stand-Up Comedy)\n",
      " Between raising a teenage boy and growing up with a Filipino mother, stand-up comic Jo Koy has been through a lot. He's here to tell you all about it.\n",
      "\n",
      " Once a Gangster (Action & Adventure, Comedies, International Movies)\n",
      " Two former triads are tapped to run in an election for leader of the underworld, but both want normal lives. Each must outwit the other to lose.\n",
      "\n",
      " Bumping Mics with Jeff Ross & Dave Attell (Stand-Up Comedy & Talk Shows, TV Comedies)\n",
      " When Jeff Ross and Dave Attell take the stage, no one is safe. With the help of special guests, they're packing a lot of laughs into one epic weekend.\n",
      "\n",
      " Lynne Koplitz: Hormonal Beast (Stand-Up Comedy)\n",
      " Unabashed comedian Lynne Koplitz offers a woman's take on being crazy, the benefits of childlessness and the three things all men really want.\n",
      "\n"
     ]
    }
   ],
   "source": [
    "# Show recommended movies\n",
    "for index, row in recommended_movies.iterrows():\n",
    "    print(f\" {row['title']} ({row['listed_in']})\")\n",
    "    print(f\" {row['description']}\\n\")\n"
   ]
  },
  {
   "cell_type": "code",
   "execution_count": null,
   "id": "e5674579-e6ea-4db6-8040-7d3eb2b65102",
   "metadata": {},
   "outputs": [],
   "source": []
  }
 ],
 "metadata": {
  "kernelspec": {
   "display_name": "Python 3 (ipykernel)",
   "language": "python",
   "name": "python3"
  },
  "language_info": {
   "codemirror_mode": {
    "name": "ipython",
    "version": 3
   },
   "file_extension": ".py",
   "mimetype": "text/x-python",
   "name": "python",
   "nbconvert_exporter": "python",
   "pygments_lexer": "ipython3",
   "version": "3.12.7"
  }
 },
 "nbformat": 4,
 "nbformat_minor": 5
}
